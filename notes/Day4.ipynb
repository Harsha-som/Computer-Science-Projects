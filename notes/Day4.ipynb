{
 "cells": [
  {
   "attachments": {},
   "cell_type": "markdown",
   "id": "78695398",
   "metadata": {},
   "source": [
    "# Show me more numpy!"
   ]
  },
  {
   "attachments": {},
   "cell_type": "markdown",
   "id": "5bfa06d6",
   "metadata": {},
   "source": [
    "## Review!\n",
    "\n",
    "How do I see the number of dimensions and number of elements in a numpy array?\n"
   ]
  },
  {
   "cell_type": "code",
   "execution_count": 29,
   "id": "6611c89e",
   "metadata": {},
   "outputs": [
    {
     "name": "stdout",
     "output_type": "stream",
     "text": [
      "nparray\n",
      " [[ 0  1  2  3]\n",
      " [10 11 12 13]\n",
      " [20 21 22 23]]\n",
      "2\n",
      "12\n",
      "(3, 4)\n"
     ]
    }
   ],
   "source": [
    "# import numpy\n",
    "import numpy as np\n",
    "nparray = np.array([[0,1,2,3], [10,11,12,13], [20,21,22,23]])\n",
    "print(\"nparray\\n\", nparray)\n",
    "\n",
    "# number of dimensions\n",
    "print(nparray.ndim)\n",
    "\n",
    "# number of elements\n",
    "print(nparray.size)\n",
    "# overall shape\n",
    "print(nparray.shape)\n"
   ]
  },
  {
   "attachments": {},
   "cell_type": "markdown",
   "id": "9090014e",
   "metadata": {},
   "source": [
    "## Getting into numpy arrays"
   ]
  },
  {
   "attachments": {},
   "cell_type": "markdown",
   "id": "a76c7c30",
   "metadata": {},
   "source": [
    "Indexing into vectors"
   ]
  },
  {
   "cell_type": "code",
   "execution_count": null,
   "id": "10786520",
   "metadata": {},
   "outputs": [],
   "source": [
    "v = np.array([1, 2, 3])\n",
    "\n",
    "# what if i want the second item in v\n",
    "print(v[1])"
   ]
  },
  {
   "attachments": {},
   "cell_type": "markdown",
   "id": "d40b09f8",
   "metadata": {},
   "source": [
    "Indexing into matrices"
   ]
  },
  {
   "cell_type": "code",
   "execution_count": 28,
   "id": "002a02d6",
   "metadata": {},
   "outputs": [
    {
     "name": "stdout",
     "output_type": "stream",
     "text": [
      "[[1 2 3]\n",
      " [4 5 6]]\n",
      "2\n"
     ]
    }
   ],
   "source": [
    "m = np.array([[1,2,3], [4,5,6]])\n",
    "print(m)\n",
    "\n",
    "#  what if I want the first row second column item in m\n",
    "print(m[0][1])"
   ]
  },
  {
   "cell_type": "code",
   "execution_count": 30,
   "id": "1070c5a9",
   "metadata": {},
   "outputs": [
    {
     "name": "stdout",
     "output_type": "stream",
     "text": [
      "[4 5 6]\n"
     ]
    }
   ],
   "source": [
    "# what happens if I do this?\n",
    "print(m[1]) "
   ]
  },
  {
   "cell_type": "code",
   "execution_count": 27,
   "id": "c52fe053",
   "metadata": {},
   "outputs": [
    {
     "name": "stdout",
     "output_type": "stream",
     "text": [
      "[2 5]\n"
     ]
    }
   ],
   "source": [
    "# what happens if I do this?\n",
    "print(m[:, 1])"
   ]
  },
  {
   "cell_type": "markdown",
   "id": "21c68c42",
   "metadata": {},
   "source": [
    "* these are *slices* of arrays\n",
    "* a slice of a matrix is a vector\n",
    "* a slice of a tensor is a matrix or another tensor"
   ]
  },
  {
   "attachments": {},
   "cell_type": "markdown",
   "id": "ba62e95c",
   "metadata": {},
   "source": [
    "Indexing into tensors"
   ]
  },
  {
   "cell_type": "code",
   "execution_count": 31,
   "id": "a032f68c",
   "metadata": {},
   "outputs": [
    {
     "name": "stdout",
     "output_type": "stream",
     "text": [
      "[[[ 1  2  3  4]\n",
      "  [ 5  6  7  8]]\n",
      "\n",
      " [[ 9 10 11 12]\n",
      "  [13 14 15 16]]\n",
      "\n",
      " [[17 18 19 20]\n",
      "  [21 22 23 24]]]\n",
      "3\n",
      "(3, 2, 4)\n"
     ]
    }
   ],
   "source": [
    "t = np.array([[[1,2,3,4], [5,6,7,8]], [[9,10,11,12], [13,14,15,16]],  [[17,18,19,20], [21,22,23,24]]])\n",
    "\n",
    "# let's remind ourselves what t looks like\n",
    "print(t)\n",
    "print(t.ndim)\n",
    "print(t.shape)   #3 dimesnions arrays with 2 arrays each with 4 columns "
   ]
  },
  {
   "cell_type": "code",
   "execution_count": 35,
   "id": "c0549b79",
   "metadata": {},
   "outputs": [
    {
     "name": "stdout",
     "output_type": "stream",
     "text": [
      "7\n"
     ]
    }
   ],
   "source": [
    "# what if I want the first array 2nd row 3rd column item in t?\n",
    "print(t[0][1][2])"
   ]
  },
  {
   "cell_type": "code",
   "execution_count": 36,
   "id": "27375c5c",
   "metadata": {},
   "outputs": [
    {
     "name": "stdout",
     "output_type": "stream",
     "text": [
      "[[ 9 10 11 12]\n",
      " [13 14 15 16]]\n"
     ]
    }
   ],
   "source": [
    "# what is the slice of t indexed like this?\n",
    "print(t[1])"
   ]
  },
  {
   "cell_type": "code",
   "execution_count": 37,
   "id": "54f13e89",
   "metadata": {},
   "outputs": [
    {
     "name": "stdout",
     "output_type": "stream",
     "text": [
      "[[ 5  6  7  8]\n",
      " [13 14 15 16]\n",
      " [21 22 23 24]]\n"
     ]
    }
   ],
   "source": [
    "# what about like this?\n",
    "print(t[:,1])"
   ]
  },
  {
   "cell_type": "code",
   "execution_count": 38,
   "id": "067aaa07",
   "metadata": {},
   "outputs": [
    {
     "name": "stdout",
     "output_type": "stream",
     "text": [
      "[[ 2  6]\n",
      " [10 14]\n",
      " [18 22]]\n"
     ]
    }
   ],
   "source": [
    "# what about like this?\n",
    "print(t[:,:,1])"
   ]
  },
  {
   "attachments": {},
   "cell_type": "markdown",
   "id": "368b893a",
   "metadata": {},
   "source": [
    "Now you do it!"
   ]
  },
  {
   "cell_type": "code",
   "execution_count": 46,
   "id": "ef0a4826",
   "metadata": {},
   "outputs": [
    {
     "name": "stdout",
     "output_type": "stream",
     "text": [
      "nparray\n",
      " [[ 0  1  2  3]\n",
      " [10 11 12 13]\n",
      " [20 21 22 23]\n",
      " [30 31 32 33]]\n",
      "2\n",
      "16\n",
      "(4, 4)\n"
     ]
    }
   ],
   "source": [
    "nparray = np.array([[0, 1, 2, 3], [10, 11, 12, 13], [20, 21, 22, 23], [30, 31, 32, 33]])\n",
    "print(\"nparray\\n\", nparray)\n",
    "print(nparray.ndim)\n",
    "print(nparray.size)\n",
    "print(nparray.shape)"
   ]
  },
  {
   "cell_type": "code",
   "execution_count": 42,
   "id": "39d0fdcb",
   "metadata": {},
   "outputs": [
    {
     "name": "stdout",
     "output_type": "stream",
     "text": [
      "0\n"
     ]
    }
   ],
   "source": [
    "# (review!) how do I access the element in the top left corner of nparray?\n",
    "print(nparray[0][0])"
   ]
  },
  {
   "cell_type": "code",
   "execution_count": null,
   "id": "c781fc9e",
   "metadata": {},
   "outputs": [],
   "source": [
    "# is there a prettier way?\n",
    "print(nparray[0, 0])\n",
    "\n",
    "# this is only marginally prettier for a 2-d array but imagine a 10-d array!\n",
    "print(nparray[])"
   ]
  },
  {
   "cell_type": "code",
   "execution_count": 43,
   "id": "cda05fff",
   "metadata": {},
   "outputs": [
    {
     "name": "stdout",
     "output_type": "stream",
     "text": [
      "[ 0 10 20 30]\n"
     ]
    }
   ],
   "source": [
    "# how do I access the whole first column?\n",
    "print(nparray[:,0])"
   ]
  },
  {
   "cell_type": "code",
   "execution_count": 44,
   "id": "58ee3da1",
   "metadata": {},
   "outputs": [
    {
     "name": "stdout",
     "output_type": "stream",
     "text": [
      "[10 11 12 13]\n"
     ]
    }
   ],
   "source": [
    "# what about the whole second row?\n",
    "print(nparray[1])"
   ]
  },
  {
   "cell_type": "code",
   "execution_count": 50,
   "id": "c1d858de",
   "metadata": {},
   "outputs": [
    {
     "name": "stdout",
     "output_type": "stream",
     "text": [
      "[[20 21 22 23]\n",
      " [30 31 32 33]]\n",
      "\n",
      "\n",
      "[[20 21 22 23]\n",
      " [30 31 32 33]]\n"
     ]
    }
   ],
   "source": [
    "\n",
    "# what about the last two rows?\n",
    "print(nparray[-2:, :])\n",
    "print(\"\\n\")\n",
    "print(nparray[2:, :]) #this also works\n",
    "\n"
   ]
  },
  {
   "cell_type": "code",
   "execution_count": 51,
   "id": "ccae2bd7",
   "metadata": {},
   "outputs": [
    {
     "name": "stdout",
     "output_type": "stream",
     "text": [
      "first row, last two columns\n",
      "[2 3]\n"
     ]
    }
   ],
   "source": [
    "# what about the first row and last two columns?\n",
    "print(\"first row, last two columns\")\n",
    "print(nparray[0, -2:])   #start from row 0, print last 2 columns till end. can also do [x:y][start:end]"
   ]
  },
  {
   "cell_type": "code",
   "execution_count": 52,
   "id": "ab5ef905",
   "metadata": {},
   "outputs": [
    {
     "name": "stdout",
     "output_type": "stream",
     "text": [
      "first and third columns\n",
      "[[ 0  2]\n",
      " [10 12]\n",
      " [20 22]\n",
      " [30 32]]\n"
     ]
    }
   ],
   "source": [
    "# how do I access the 1st and 3rd columns?\n",
    "print(\"first and third columns\")\n",
    "print(nparray[:, [0, 2]])"
   ]
  },
  {
   "cell_type": "code",
   "execution_count": 84,
   "id": "665f0601",
   "metadata": {},
   "outputs": [
    {
     "name": "stdout",
     "output_type": "stream",
     "text": [
      "[[1 2 3]\n",
      " [4 4 3]]\n",
      "(2, 3)\n",
      "[[1 1 1]\n",
      " [1 1 1]]\n",
      "2\n"
     ]
    }
   ],
   "source": [
    "# let's do it another way\n",
    "import numpy as np\n",
    "nparray=np.array([[1,2,3],[4,4,3]])\n",
    "print(nparray)\n",
    "print(nparray.shape)\n",
    "nparray[:,:]=1\n",
    "print(nparray)\n",
    "print(nparray.ndim)\n",
    "\n",
    "# print(nparray[np.ix_(np.arange(nparray.shape[0]), [0, 2])])   #ix is index, arange is rsnge\n",
    "\n",
    "# what is np.ix_??  \n",
    "#vector is 1 dimesnional, matrix has 2 elements, tensor has at least 3\n"
   ]
  },
  {
   "cell_type": "code",
   "execution_count": 63,
   "id": "94641295",
   "metadata": {},
   "outputs": [
    {
     "name": "stdout",
     "output_type": "stream",
     "text": [
      "(1, 1, 1, 2, 1)\n",
      "5\n",
      "[[[[[1]\n",
      "    [2]]]]]\n"
     ]
    }
   ],
   "source": [
    "tesnor=np.array([[[[[1],[2]]]]]) #1 matrix 2 row 1 column\n",
    "print(tesnor.shape)  #numbr of elements in tuple returned always = ndim\n",
    "print(tesnor.ndim)  #3 dimesnions (matrix, row, column). 3 []\n",
    "print(tesnor)\n"
   ]
  },
  {
   "attachments": {},
   "cell_type": "markdown",
   "id": "ef99c05b",
   "metadata": {},
   "source": [
    "## Modifying (slices of) arrays"
   ]
  },
  {
   "attachments": {},
   "cell_type": "markdown",
   "id": "c1142a80",
   "metadata": {},
   "source": [
    "Modyfying arrays"
   ]
  },
  {
   "cell_type": "code",
   "execution_count": 78,
   "id": "c6b04149",
   "metadata": {},
   "outputs": [
    {
     "name": "stdout",
     "output_type": "stream",
     "text": [
      "[[  1   1   1]\n",
      " [  1 101   1]]\n"
     ]
    }
   ],
   "source": [
    "# how do I *change* the element at 1, 1 of the array?\n",
    "nparray[1,1] = 101   #changes in place\n",
    "print(nparray)"
   ]
  },
  {
   "cell_type": "code",
   "execution_count": 79,
   "id": "2338269d",
   "metadata": {},
   "outputs": [
    {
     "name": "stdout",
     "output_type": "stream",
     "text": [
      "[[1 1 1]\n",
      " [1 1 1]]\n",
      "int64\n"
     ]
    }
   ],
   "source": [
    "# and now for some magic! how do I assign the second row to 1s?\n",
    "nparray[1] = 1\n",
    "print(nparray)   #get 4 1's, broadcast, does to everything \n",
    "print(nparray.dtype)"
   ]
  },
  {
   "cell_type": "code",
   "execution_count": 82,
   "id": "6e6e59f9",
   "metadata": {},
   "outputs": [
    {
     "name": "stdout",
     "output_type": "stream",
     "text": [
      "2\n",
      "[[1 1 1]\n",
      " [0 1 2]]\n",
      "int64\n"
     ]
    }
   ],
   "source": [
    "# how do I assign the second row to increasing ints?\n",
    "print(nparray.shape[0])\n",
    "nparray[1] = np.arange(nparray.shape[1])   #second row becomes 0 1 2 .  #arange 2,3. nparray[secondrow]=np 3\n",
    "print(nparray)\n",
    "print(nparray.dtype)\n"
   ]
  },
  {
   "cell_type": "code",
   "execution_count": 85,
   "id": "19daf3e3",
   "metadata": {},
   "outputs": [
    {
     "name": "stdout",
     "output_type": "stream",
     "text": [
      "[[1 1 1]\n",
      " [1 1 1]]\n"
     ]
    }
   ],
   "source": [
    "# how do I assign the second row to 3* itself?\n",
    "nparray[1] *3\n",
    "print(nparray)\n"
   ]
  },
  {
   "cell_type": "code",
   "execution_count": 122,
   "id": "441a6bfa",
   "metadata": {},
   "outputs": [
    {
     "name": "stdout",
     "output_type": "stream",
     "text": [
      "[[ 6  9 12 15]\n",
      " [22 25 25 22]\n",
      " [15 12  9  6]]\n",
      "[ 6  9 12 15]\n",
      "6\n",
      "[[ 0  3  6  9]\n",
      " [22 25 25 22]\n",
      " [15 12  9  6]]\n"
     ]
    },
    {
     "name": "stderr",
     "output_type": "stream",
     "text": [
      "Bad pipe message: %s [b'\\xd7/\\x88P*t\\xb4\\x99\\x9a\\xb3^|-)\\x83S7\\x10  \\xfaL\\x9b7A\\xf9:C\\xff5\\xa2\\xce)=\\x92\\x01\\xae\\xff\\xf8\\x1bW\\x08[\\x84\\xd4\\x19\\x019\\xb1|\\xc2\\x00\\x08\\x13\\x02\\x13\\x03\\x13\\x01\\x00\\xff\\x01\\x00\\x00\\x8f\\x00\\x00\\x00\\x0e\\x00\\x0c\\x00\\x00\\t127.0.0.1\\x00\\x0b\\x00\\x04\\x03\\x00\\x01\\x02\\x00\\n\\x00\\x0c\\x00\\n\\x00\\x1d\\x00\\x17\\x00\\x1e\\x00\\x19\\x00\\x18\\x00#\\x00\\x00\\x00\\x16\\x00\\x00\\x00\\x17\\x00\\x00\\x00\\r\\x00\\x1e\\x00\\x1c\\x04\\x03']\n",
      "Bad pipe message: %s [b'\\x06\\x03\\x08\\x07', b'\\x08\\t\\x08\\n\\x08\\x0b\\x08']\n",
      "Bad pipe message: %s [b'\\x05\\x08\\x06']\n",
      "Bad pipe message: %s [b'\\x05\\x01\\x06', b'']\n",
      "Bad pipe message: %s [b'\\x03\\x02\\x03\\x04\\x00-\\x00\\x02\\x01\\x01\\x003\\x00&\\x00$\\x00\\x1d\\x00 \\x0c89\\x043B\\x01\\x96\\xad\\xddAT\\xeb#\\xad1\\xf8\\x95\\xb0\\xc3\\xe5\\x94']\n",
      "Bad pipe message: %s [b'\\xbf\\xc7r\\xba^\\x98\\xcc\\xcc\\xa2\\x95\\xd1#N\\x02\\xc4\\xd8\\xb7\\xcd \\xd6G\\x8c-M\\x935r\\xd9X+r\\xf8Yy\\xb9\\xd5B\"\\xd9+\\x86\\x95_(J\\xa8\\x13\\x8df\\x8c%']\n",
      "Bad pipe message: %s [b\"X\\x99\\xf6A\\xcd\\xc5\\x8c\\x15TN\\xb7\\xd5\\x03\\xd2\\xc3\\x7f\\xd1\\xd4\\x00\\x00\\xa6\\xc0,\\xc00\\x00\\xa3\\x00\\x9f\\xcc\\xa9\\xcc\\xa8\\xcc\\xaa\\xc0\\xaf\\xc0\\xad\\xc0\\xa3\\xc0\\x9f\\xc0]\\xc0a\\xc0W\\xc0S\\xc0+\\xc0/\\x00\\xa2\\x00\\x9e\\xc0\\xae\\xc0\\xac\\xc0\\xa2\\xc0\\x9e\\xc0\\\\\\xc0`\\xc0V\\xc0R\\xc0$\\xc0(\\x00k\\x00j\\xc0s\\xc0w\\x00\\xc4\\x00\\xc3\\xc0#\\xc0'\\x00g\\x00@\\xc0r\\xc0v\\x00\\xbe\\x00\\xbd\\xc0\\n\\xc0\\x14\\x009\\x008\\x00\\x88\\x00\", b'\\t\\xc0\\x13\\x003\\x002\\x00\\x9a\\x00\\x99\\x00E\\x00D\\xc0\\x07\\xc0\\x11\\xc0\\x08\\xc0\\x12\\x00\\x16\\x00\\x13\\x00\\x9d\\xc0\\xa1\\xc0\\x9d\\xc0Q\\x00\\x9c\\xc0\\xa0\\xc0\\x9c\\xc0P\\x00=\\x00\\xc0\\x00<\\x00\\xba\\x005\\x00\\x84\\x00/\\x00\\x96\\x00A\\x00\\x05\\x00\\n\\x00\\xff\\x01\\x00\\x00j\\x00\\x00\\x00\\x0e\\x00\\x0c\\x00\\x00\\t127.0.0.1\\x00\\x0b\\x00\\x04\\x03\\x00\\x01\\x02\\x00\\n\\x00\\x0c\\x00\\n\\x00\\x1d\\x00\\x17\\x00\\x1e\\x00\\x19\\x00\\x18\\x00#\\x00\\x00\\x00\\x16\\x00\\x00\\x00\\x17\\x00\\x00\\x00\\r\\x000\\x00.\\x04\\x03\\x05']\n",
      "Bad pipe message: %s [b'\\x03\\x08']\n",
      "Bad pipe message: %s [b'\\x08\\x08\\t\\x08\\n\\x08']\n",
      "Bad pipe message: %s [b'\\x04\\x08\\x05\\x08\\x06\\x04\\x01\\x05\\x01\\x06']\n",
      "Bad pipe message: %s [b'', b'\\x03\\x03']\n",
      "Bad pipe message: %s [b'']\n",
      "Bad pipe message: %s [b'', b'\\x02']\n",
      "Bad pipe message: %s [b'\\x05\\x02\\x06']\n",
      "Bad pipe message: %s [b'\\xd0\\x9a?v\\xf0\\x01\\xa2b\\x18\\xb9\\xb7\\xb8\\n\\xfb\\xc7\\x81\\x06;\\x00\\x00>\\xc0\\x14\\xc0\\n\\x009\\x008\\x007\\x006\\xc0\\x0f\\xc0\\x05\\x005\\xc0\\x13\\xc0\\t\\x003\\x002\\x001\\x000\\xc0\\x0e\\xc0\\x04\\x00/\\x00\\x9a\\x00\\x99\\x00\\x98\\x00\\x97\\x00\\x96\\x00\\x07\\xc0\\x11\\xc0\\x07\\xc0\\x0c\\xc0']\n",
      "Bad pipe message: %s [b'\\x05']\n",
      "Bad pipe message: %s [b'\\xcal9D uc\\x95i\\xa3+\\x1d\\xfa\\x99.\\xd3\\xd5\\xcd\\x00\\x00\\xa2\\xc0\\x14\\xc0\\n\\x009\\x008\\x007\\x006\\x00\\x88\\x00\\x87\\x00\\x86\\x00\\x85\\xc0\\x19\\x00:\\x00\\x89\\xc0\\x0f\\xc0\\x05\\x005\\x00\\x84\\xc0\\x13\\xc0\\t\\x003\\x002\\x001\\x000\\x00\\x9a\\x00\\x99\\x00', b'\\x97\\x00E\\x00D\\x00C\\x00B\\xc0\\x18\\x004\\x00\\x9b\\x00F\\xc0\\x0e\\xc0\\x04\\x00/\\x00\\x96\\x00A\\x00\\x07\\xc0\\x11\\xc0\\x07\\xc0\\x16\\x00\\x18\\xc0\\x0c\\xc0\\x02\\x00\\x05\\x00\\x04\\xc0\\x12\\xc0\\x08\\x00\\x16\\x00\\x13\\x00\\x10\\x00\\r\\xc0\\x17\\x00\\x1b\\xc0\\r\\xc0\\x03\\x00\\n\\x00\\x15\\x00\\x12\\x00\\x0f\\x00\\x0c\\x00\\x1a\\x00\\t\\x00\\x14\\x00\\x11\\x00\\x19\\x00\\x08\\x00\\x06\\x00\\x17\\x00\\x03\\xc0\\x10\\xc0\\x06\\xc0\\x15\\xc0\\x0b\\xc0\\x01\\x00\\x02\\x00\\x01\\x00\\xff\\x02\\x01\\x00\\x00C\\x00\\x00\\x00\\x0e\\x00\\x0c\\x00\\x00\\t127.0.0.1\\x00\\x0b\\x00\\x04\\x03\\x00\\x01\\x02\\x00\\n\\x00\\x1c\\x00\\x1a\\x00\\x17\\x00\\x19\\x00']\n",
      "Bad pipe message: %s [b'\\x1b\\x00\\x18\\x00\\x1a\\x00\\x16\\x00\\x0e\\x00\\r\\x00\\x0b\\x00\\x0c\\x00\\t\\x00\\n\\x00#\\x00\\x00\\x00\\x0f\\x00\\x01']\n",
      "Bad pipe message: %s [b'\\x8d\\xdc\\xb9\\x950\\xb7\\xdf 4[C\\xad\\xee\"\\xc4\\xac\\x08\\xc0\\x00\\x00\\x86\\xc00\\xc0,\\xc0(\\xc0$\\xc0\\x14\\xc0\\n\\x00\\xa5\\x00\\xa3\\x00\\xa1\\x00\\x9f\\x00k\\x00j\\x00i\\x00h\\x009\\x008\\x007\\x006\\xc02\\xc0.\\xc0*\\xc0&\\xc0\\x0f\\xc0\\x05\\x00\\x9d\\x00=\\x005\\xc0/\\xc0+\\xc0\\'\\xc0#\\xc0\\x13\\xc0\\t\\x00\\xa4\\x00\\xa2\\x00', b'\\x9e\\x00g\\x00@\\x00?\\x00>\\x003\\x002\\x001\\x000\\xc01\\xc0-\\xc0)\\xc0%\\xc0\\x0e\\xc0\\x04\\x00\\x9c\\x00<\\x00/\\x00\\x9a\\x00\\x99\\x00\\x98\\x00\\x97\\x00\\x96\\x00\\x07\\xc0\\x11\\xc0\\x07\\xc0\\x0c\\xc0\\x02\\x00\\x05\\x00\\x04\\x00\\xff\\x02\\x01\\x00\\x00g\\x00\\x00\\x00\\x0e\\x00\\x0c\\x00\\x00\\t127.0.0.1\\x00\\x0b\\x00\\x04\\x03\\x00\\x01\\x02\\x00\\n\\x00\\x1c\\x00\\x1a\\x00\\x17\\x00\\x19\\x00\\x1c\\x00\\x1b\\x00\\x18\\x00\\x1a\\x00\\x16\\x00\\x0e\\x00\\r\\x00\\x0b\\x00\\x0c\\x00\\t\\x00\\n\\x00#\\x00\\x00\\x00\\r\\x00 \\x00\\x1e\\x06\\x01\\x06\\x02\\x06\\x03\\x05\\x01\\x05\\x02\\x05\\x03\\x04\\x01\\x04\\x02\\x04\\x03\\x03\\x01\\x03\\x02\\x03\\x03\\x02']\n",
      "Bad pipe message: %s [b'']\n",
      "Bad pipe message: %s [b'\\x03']\n"
     ]
    }
   ],
   "source": [
    "import numpy as np\n",
    "data = np.array([[[2.1, 3.2, 4.3, 5.4, 6.5, 7.6], [7.8, 6.7, 5.6, 4.5, 3.4, 2.3]]])\n",
    "#print(data)\n",
    "data=data.astype(int)\n",
    "#print(data)\n",
    "data=data*3\n",
    "#print(data)\n",
    "\n",
    "# print(data.size)\n",
    "# print(data.shape)\n",
    "# print(data.ndim)\n",
    "\n",
    "data=data.reshape((3,4))\n",
    "# print(data)\n",
    "\n",
    "# data=data.tolist()\n",
    "# print(data)\n",
    "\n",
    "# print(data[1][2])\n",
    "\n",
    "# print(data[:,2])\n",
    "\n",
    "data[:][1]=data[:][1]+4\n",
    "# print(data)\n",
    "\n",
    "# print(\"here\",\"\\n\")\n",
    "\n",
    "print(data)\n",
    "\n",
    "print(data[0,:])\n",
    "print(data[0,:].min())\n",
    "data[0,:] =data[0,:]-data[0,:].min()\n",
    "print(data)\n"
   ]
  },
  {
   "cell_type": "code",
   "execution_count": null,
   "metadata": {},
   "outputs": [],
   "source": []
  },
  {
   "cell_type": "code",
   "execution_count": 24,
   "id": "0d05e6aa",
   "metadata": {},
   "outputs": [
    {
     "name": "stdout",
     "output_type": "stream",
     "text": [
      "[[[1 2 3]\n",
      "  [3 2 1]]\n",
      "\n",
      " [[3 5 6]\n",
      "  [2 4 5]]]\n",
      "(2, 2, 3)\n",
      "3\n"
     ]
    }
   ],
   "source": [
    "arr= np.array([[[1,2,3],[3,2,1]],[[3,5,6],[2,4,5]]])\n",
    "print(arr)\n",
    "print(arr.shape)\n",
    "print(arr.ndim)"
   ]
  }
 ],
 "metadata": {
  "kernelspec": {
   "display_name": "Python 3 (ipykernel)",
   "language": "python",
   "name": "python3"
  },
  "language_info": {
   "codemirror_mode": {
    "name": "ipython",
    "version": 3
   },
   "file_extension": ".py",
   "mimetype": "text/x-python",
   "name": "python",
   "nbconvert_exporter": "python",
   "pygments_lexer": "ipython3",
   "version": "3.10.4"
  },
  "vscode": {
   "interpreter": {
    "hash": "3ad933181bd8a04b432d3370b9dc3b0662ad032c4dfaa4e4f1596c548f763858"
   }
  }
 },
 "nbformat": 4,
 "nbformat_minor": 5
}
