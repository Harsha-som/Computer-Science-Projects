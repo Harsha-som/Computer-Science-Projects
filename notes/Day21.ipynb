{
 "cells": [
  {
   "cell_type": "code",
   "execution_count": 2,
   "id": "10c79c10",
   "metadata": {},
   "outputs": [],
   "source": [
    "import numpy as np\n",
    "import matplotlib.pyplot as plt"
   ]
  },
  {
   "attachments": {},
   "cell_type": "markdown",
   "id": "27853f73",
   "metadata": {},
   "source": [
    "nnbn\n",
    "nnn|\n"
   ]
  },
  {
   "attachments": {},
   "cell_type": "markdown",
   "id": "ed6a924e",
   "metadata": {},
   "source": [
    "# The One Goal For Today\n",
    "\n",
    "To understand how k means clustering works.\n"
   ]
  },
  {
   "cell_type": "markdown",
   "id": "ed6f370b",
   "metadata": {},
   "source": [
    "# Clustering\n",
    "\n",
    "Clustering algorithms separate a data set into groups, or clusters, that are near each other (similar to each other) using a distance metric we choose or define.\n",
    "\n",
    "When we fit a regression model, we know the dependent variable - the label, the answer. When we cluster, we don't. Clustering is therefore an *unsupervised* method, although we as data scientists can make all kinds of decisions to influence it.\n"
   ]
  },
  {
   "attachments": {},
   "cell_type": "markdown",
   "id": "77e372ca",
   "metadata": {},
   "source": [
    "# K-means clustering\n",
    "\n",
    "K-means clustering is one clustering algorithm. It divides the data into $k$ clusters. Each cluster has a *centroid*, or central point (or \"mean\"). \n",
    "\n",
    "## What we want to optimize\n",
    "\n",
    "The points in the dataset are assigned to their closest centroid. In other words, we want to minimize the distances between data points and the centroids they are assigned to, across the whole data set. We want to minimize the *inertia*:\n",
    "$1/N \\sum_{j=1}^N d(\\vec{x_j}, \\vec{m_{\\vec{x_j}}})^2$, where $\\vec{m_{x_j}}$ is the centroid of the cluster that $x_j$ is currently assigned to, and $d$ is your chosen distance metric.\n",
    "\n",
    "__What does this look like?__\n",
    "\n",
    "## The algorithm\n",
    "\n",
    "To make this computationally efficient, we calculate an approximate solution by iteration:\n",
    "1. Pick initial centroids.\n",
    "2. For step in range(max_steps):\n",
    "  1. Assign each point to its closest centroid.\n",
    "  2. Pick new centroids using the members in each cluster. If the centroids don't change, then return."
   ]
  },
  {
   "cell_type": "markdown",
   "id": "db0bb4e0",
   "metadata": {},
   "source": [
    "__Is this guaranteed to converge?__"
   ]
  },
  {
   "cell_type": "markdown",
   "id": "f05f5ac1",
   "metadata": {},
   "source": [
    "## The 'hyperparameters'\n",
    "\n",
    "Things a data scientist can do to influence the k-means clustering (by __looking at the data__):\n",
    "* choose distance metric\n",
    "* choose $k$\n",
    "* choose starting points, or subset of data from which starting points should come"
   ]
  },
  {
   "cell_type": "code",
   "execution_count": 3,
   "id": "18d422dc",
   "metadata": {},
   "outputs": [],
   "source": [
    "# Let's define a distance metric; which one is this??\n",
    "def distanceo(a, b):\n",
    "    subtracted = a-b #subtrcat numpy arrays via broadcasting , take difference fo the two arrays \n",
    "    return np.sqrt(np.dot(subtracted.T, subtracted)) #square root of squared. #return the sqrt of the sum of each of teh eelements squared-euclidena distance #the @ in here already givces the sum"
   ]
  },
  {
   "cell_type": "code",
   "execution_count": 4,
   "id": "fb50ecdb",
   "metadata": {},
   "outputs": [],
   "source": [
    "def distance(a, b):\n",
    "    return (np.sum(np.abs(a-b)))\n"
   ]
  },
  {
   "cell_type": "code",
   "execution_count": 5,
   "id": "4a3a6e93",
   "metadata": {},
   "outputs": [],
   "source": [
    "# Let's define a function to calculate the distance from each data point to each centroid\n",
    "def get_distances(item, centroids):    #given a data poiint and a list of centroids \n",
    "    distances = [distance(item, centroid) for centroid in centroids] #calcualte the distance between each item and every centroid \n",
    "    return distances #list of floating point numbers with 0th number is distance form item to first centroid 1dt index is distance from item to 2nd centroid \n",
    "\n",
    "# Let's define a function to update cluster assignments given a set of centroids\n",
    "def update_clusters(data, centroids): #list of data points, list of centroids \n",
    "    clusters = {} #map a centroid index to a list of data pooints \n",
    "    mappings = {}\n",
    "    for i, x in enumerate(centroids): #for evert centroid \n",
    "        clusters[i] = []  #key is index of every centroid, at every centroid index is a empty list \n",
    "    for j, datum in enumerate(data):  #for every data point \n",
    "        distances = get_distances(datum, centroids) #retrurn list of distances \n",
    "        min_cluster_index = np.argmin(distances) #get lowest distance \n",
    "        clusters[min_cluster_index].append(datum)  #add data point as a value in this clusert index which is the lowest distance   clusters.  {keys are distances, value is data point}\n",
    "        mappings[j] = min_cluster_index #mappings is just index as keys and values as distances \n",
    "    return clusters, mappings\n"
   ]
  },
  {
   "cell_type": "code",
   "execution_count": 6,
   "id": "1af2c9b6",
   "metadata": {},
   "outputs": [],
   "source": [
    "# Let's define a function to update the centroids; data is a list of data points; clusters is a dictionary of centroid->datapoints mappings\n",
    "def update_centroids(clusters):\n",
    "    centroids = [] #set centroids to be npthing \n",
    "    for data_in_cluster in clusters.values(): #for each set of cluster values around a single centroid \n",
    "        centroids.append(np.mean(data_in_cluster, axis=0)) #new centroids is mena fo that cluster\n",
    "    return centroids #update centrooids to be avaerge of its data points "
   ]
  },
  {
   "cell_type": "code",
   "execution_count": 7,
   "id": "4b915fc6",
   "metadata": {},
   "outputs": [],
   "source": [
    "# Let's define a function to measure the inertia\n",
    "def inertia(data, centroids, clusters):\n",
    "    sum = 0\n",
    "    for i in clusters.keys():\n",
    "        #get teh centroid \n",
    "        centroid = centroids[i]\n",
    "        for datum in clusters[i]: #get data points in this centroid \n",
    "            sum += distance(datum, centroid)**2 #get distacne and punish ones further away \n",
    "    return sum / len(data) #average of the data "
   ]
  },
  {
   "cell_type": "markdown",
   "id": "7e471169",
   "metadata": {},
   "source": [
    "## Let's try it on some toy data!"
   ]
  },
  {
   "cell_type": "code",
   "execution_count": 8,
   "id": "d5dbe23b",
   "metadata": {},
   "outputs": [
    {
     "data": {
      "image/png": "[encoded data removed]",
      "text/plain": [
       "<Figure size 640x480 with 1 Axes>"
      ]
     },
     "metadata": {},
     "output_type": "display_data"
    }
   ],
   "source": [
    "# Let's get some toy data\n",
    "\n",
    "data = np.array([[1, 1], [2, 0.5], [1.5, 2], [3, 1.5], [3.5, 1.75], [4, 3.6], [4.25, 4], [5, 3.5]])\n",
    "\n",
    "# Let's look at the data\n",
    "plt.scatter(data[:, 0], data[:, 1])\n",
    "plt.show()"
   ]
  },
  {
   "cell_type": "code",
   "execution_count": 9,
   "id": "427c2753",
   "metadata": {},
   "outputs": [],
   "source": [
    "def plot_clusters(data, mappings, centroids):\n",
    "    plt.scatter(data[:, 0], data[:, 1], c=list(mappings.values()))\n",
    "    print(centroids)\n",
    "    for i, centroid in enumerate(centroids):\n",
    "        plt.scatter(centroid[0], centroid[1], marker=i)\n",
    "    plt.show()"
   ]
  },
  {
   "cell_type": "code",
   "execution_count": 10,
   "id": "047d929c",
   "metadata": {},
   "outputs": [
    {
     "name": "stdout",
     "output_type": "stream",
     "text": [
      "initial centroids\n",
      "[array([2. , 0.5]), array([5. , 3.5])]\n",
      "{0: [array([1., 1.]), array([2. , 0.5]), array([1.5, 2. ]), array([3. , 1.5]), array([3.5 , 1.75])], 1: [array([4. , 3.6]), array([4.25, 4.  ]), array([5. , 3.5])]}\n",
      "[array([2. , 0.5]), array([5. , 3.5])]\n"
     ]
    },
    {
     "data": {
      "image/png": "[encoded data removed]",
      "text/plain": [
       "<Figure size 640x480 with 1 Axes>"
      ]
     },
     "metadata": {},
     "output_type": "display_data"
    }
   ],
   "source": [
    "# Let's pick k = 2\n",
    "k = 2\n",
    "\n",
    "# Let's pick k points to be centroids, at random\n",
    "centroidids = np.random.choice(np.arange(len(data)), size=k, replace=False)\n",
    "centroids = [data[x] for x in centroidids]\n",
    "print(\"initial centroids\")\n",
    "print(centroids)\n",
    "\n",
    "# Initially, only the centroids are in any cluster\n",
    "clusters, mappings = update_clusters(data, centroids)\n",
    "print(clusters)\n",
    "plot_clusters(data, mappings, centroids)"
   ]
  },
  {
   "cell_type": "code",
   "execution_count": 11,
   "id": "8f7bd224",
   "metadata": {},
   "outputs": [
    {
     "name": "stdout",
     "output_type": "stream",
     "text": [
      "[array([2.2 , 1.35]), array([4.41666667, 3.7       ])]\n",
      "{0: [array([1., 1.]), array([2. , 0.5]), array([1.5, 2. ]), array([3. , 1.5]), array([3.5 , 1.75])], 1: [array([4. , 3.6]), array([4.25, 4.  ]), array([5. , 3.5])]}\n",
      "1.2772916666666667\n",
      "[array([2.2 , 1.35]), array([4.41666667, 3.7       ])]\n"
     ]
    },
    {
     "data": {
      "image/png": "[encoded data removed]",
      "text/plain": [
       "<Figure size 640x480 with 1 Axes>"
      ]
     },
     "metadata": {},
     "output_type": "display_data"
    },
    {
     "name": "stdout",
     "output_type": "stream",
     "text": [
      "[array([2.2 , 1.35]), array([4.41666667, 3.7       ])]\n",
      "{0: [array([1., 1.]), array([2. , 0.5]), array([1.5, 2. ]), array([3. , 1.5]), array([3.5 , 1.75])], 1: [array([4. , 3.6]), array([4.25, 4.  ]), array([5. , 3.5])]}\n",
      "1.2772916666666667\n",
      "[array([2.2 , 1.35]), array([4.41666667, 3.7       ])]\n"
     ]
    },
    {
     "data": {
      "image/png": "[encoded data removed]",
      "text/plain": [
       "<Figure size 640x480 with 1 Axes>"
      ]
     },
     "metadata": {},
     "output_type": "display_data"
    }
   ],
   "source": [
    "# Let's loop over updating the centroids and plotting\n",
    "while input() != 'stop':\n",
    "    centroids = update_centroids(clusters)\n",
    "    print(centroids)\n",
    "    clusters, mappings = update_clusters(data, centroids)\n",
    "    print(clusters)\n",
    "    print(inertia(data, centroids, clusters))\n",
    "    plot_clusters(data, mappings, centroids)"
   ]
  },
  {
   "cell_type": "markdown",
   "id": "1594f75e",
   "metadata": {},
   "source": [
    "## Choosing k\n",
    "\n",
    "K nearest neighbors can be frustrating, especially with high dimensional data, because you have to choose a value for k. How can you do it, if you can't visualize all the data?\n",
    "\n",
    "You can inspect an elbow plot of inertia against k, starting with a small k and increasing.\n",
    "\n",
    "Even if you use this method, it's still important to __look at your data__."
   ]
  },
  {
   "attachments": {},
   "cell_type": "markdown",
   "id": "90a072e7",
   "metadata": {},
   "source": [
    "the bigger the k, the more rounds"
   ]
  },
  {
   "cell_type": "markdown",
   "id": "8130dd92",
   "metadata": {},
   "source": [
    "## Resources\n",
    "* For a list of lots of clustering algorithms, see https://scikit-learn.org/stable/modules/clustering.html"
   ]
  }
 ],
 "metadata": {
  "kernelspec": {
   "display_name": "Python 3 (ipykernel)",
   "language": "python",
   "name": "python3"
  },
  "language_info": {
   "codemirror_mode": {
    "name": "ipython",
    "version": 3
   },
   "file_extension": ".py",
   "mimetype": "text/x-python",
   "name": "python",
   "nbconvert_exporter": "python",
   "pygments_lexer": "ipython3",
   "version": "3.10.4"
  }
 },
 "nbformat": 4,
 "nbformat_minor": 5
}
