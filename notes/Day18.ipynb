{
 "cells": [
  {
   "cell_type": "code",
   "execution_count": 26,
   "id": "52c680f3",
   "metadata": {},
   "outputs": [],
   "source": [
    "import numpy as np\n",
    "import matplotlib.pyplot as plt"
   ]
  },
  {
   "cell_type": "markdown",
   "id": "0a863181",
   "metadata": {},
   "source": [
    "# PCA\n",
    "\n",
    "PCA stands for \"principal components analysis\".\n",
    "\n",
    "The \"principal components\" in PCA are the axes of covariation. Intuition: if you look at a pairplot, in what direction (if any) do you see the variables pointing?"
   ]
  },
  {
   "cell_type": "markdown",
   "id": "fcd89562",
   "metadata": {},
   "source": [
    "The idea behind PCA is:\n",
    "* find the components (the intrinsic axes of variation)\n",
    "* order them from largest to smallest\n",
    "* drop the smallest ones\n",
    "\n",
    "This gives a data set with fewer variables, but that still has most of the information of the full dataset. Note that this type of projection does *not drop data variables*, instead it drops variation between data variables.\n",
    "\n"
   ]
  },
  {
   "attachments": {},
   "cell_type": "markdown",
   "id": "a7828258",
   "metadata": {},
   "source": [
    "We can do this using matrix math!\n",
    "* Rotate so the principal coordinates become coordinate axes (translation then rotation), then \n",
    "* drop the lesser ones, then \n",
    "* reverse the rotation and translation: $$A_{reconstruct} = (P@A_c^T)^T + \\mu = A_c @ P^T + \\mu$$\n",
    "    \n",
    "The rotation matrix is the *eigenvectors* of the covariance matrix. The eigenvectors tell us the direction of the principal components. The eigenvalues tell us the amount of variation in each principal coordinate direction.\n",
    "\n",
    "(For more on eigenvalues and eigenvectors, see Linear Algebra or https://www.mathsisfun.com/algebra/eigenvalue.html)\n"
   ]
  },
  {
   "attachments": {},
   "cell_type": "markdown",
   "id": "a154a79e",
   "metadata": {},
   "source": [
    "eigenvalues- ampunt of variance, size\n",
    "\n",
    "\n",
    "eignevectors- direction"
   ]
  },
  {
   "attachments": {},
   "cell_type": "markdown",
   "id": "ed7100f1",
   "metadata": {},
   "source": [
    "The eigenvectors are *orthonormal*. What does that mean?\n",
    "\n",
    "- always at 90 degreeed to each other\n",
    "\n",
    "\n",
    "\n",
    "normal:\n",
    "- perpindulcular, range between 0 and 1"
   ]
  },
  {
   "attachments": {},
   "cell_type": "markdown",
   "id": "53e774a1",
   "metadata": {},
   "source": [
    "So the steps to calculate PCA are:\n",
    "\n",
    "0. (If appropriate) normalize the variables to be in the range 0-1 (global, local, z score)\n",
    "1. Center the data  (subtract mean)\n",
    "2. Compute the covariance matrix\n",
    "3. Compute the eigenvectors and eigenvalues; the eigenvectors tell us the direction of variance, and the eigenvalues tell us the amount of variance\n",
    "4. Get an ordering over the eigenvalues\n",
    "5. Sort the eigenvalues and eigenvectors accordingly\n",
    "6. Compute the proportional variance (how much bigger?) accounted for by each principal component, then decide which varibales to keep or not\n",
    "7. Compute the cumulative sum of the proportional variance (tells us how many eigenvectors we need to explain a desired amount of variance)\n",
    "8. Examine the principal components. Select v' of them.\n",
    "9. Project the data into PCA space\n",
    "10. Reconstruct the data"
   ]
  },
  {
   "cell_type": "code",
   "execution_count": 27,
   "id": "a1eca89d",
   "metadata": {},
   "outputs": [
    {
     "name": "stdout",
     "output_type": "stream",
     "text": [
      "[[1. 4.]\n",
      " [2. 3.]\n",
      " [3. 2.]\n",
      " [4. 1.]]\n"
     ]
    },
    {
     "data": {
      "image/png": "[encoded data removed]",
      "text/plain": [
       "<Figure size 640x480 with 1 Axes>"
      ]
     },
     "metadata": {},
     "output_type": "display_data"
    }
   ],
   "source": [
    "data = np.array([[1, 4],[2, 3], [3, 2], [4, 1.0]])\n",
    "print(data)\n",
    "columns = ['x,', 'y']\n",
    "\n",
    "plt.scatter(x = data[:, 0], y=data[:, 1])\n",
    "plt.show()"
   ]
  },
  {
   "attachments": {},
   "cell_type": "markdown",
   "id": "45aeee46",
   "metadata": {},
   "source": [
    "First, center the data."
   ]
  },
  {
   "cell_type": "code",
   "execution_count": 28,
   "id": "e8888154",
   "metadata": {},
   "outputs": [
    {
     "name": "stdout",
     "output_type": "stream",
     "text": [
      "(4, 2)\n"
     ]
    },
    {
     "data": {
      "image/png": "[encoded data removed]",
      "text/plain": [
       "<Figure size 640x480 with 1 Axes>"
      ]
     },
     "metadata": {},
     "output_type": "display_data"
    }
   ],
   "source": [
    "centered_data = data - np.mean(data, axis=0)\n",
    "print(centered_data.shape)\n",
    "plt.scatter(x = centered_data[:, 0], y=centered_data[:, 1])\n",
    "plt.show()"
   ]
  },
  {
   "attachments": {},
   "cell_type": "markdown",
   "id": "b90dc9cf",
   "metadata": {},
   "source": [
    "Second, compute the covariance matrix."
   ]
  },
  {
   "cell_type": "code",
   "execution_count": 29,
   "id": "199b41d9",
   "metadata": {},
   "outputs": [
    {
     "name": "stdout",
     "output_type": "stream",
     "text": [
      "(2, 2)\n",
      "[[ 1.66666667 -1.66666667]\n",
      " [-1.66666667  1.66666667]]\n"
     ]
    }
   ],
   "source": [
    "covariance_matrix = (centered_data.T @ centered_data) / (data.shape[0] - 1)\n",
    "print(covariance_matrix.shape)\n",
    "print(covariance_matrix)"
   ]
  },
  {
   "attachments": {},
   "cell_type": "markdown",
   "id": "ee3bb43e",
   "metadata": {},
   "source": [
    "Third, get the eigenvalues and eigenvectors.  #runs along columns, not rows"
   ]
  },
  {
   "cell_type": "code",
   "execution_count": 30,
   "id": "8c5d7b4c",
   "metadata": {},
   "outputs": [
    {
     "name": "stdout",
     "output_type": "stream",
     "text": [
      "(2,)\n",
      "(2, 2)\n",
      "[ 3.33333333e+00 -3.70074342e-16] \n",
      " [[ 0.70710678  0.70710678]\n",
      " [-0.70710678  0.70710678]]\n"
     ]
    }
   ],
   "source": [
    "(evals, evectors) = np.linalg.eig(covariance_matrix)\n",
    "print(evals.shape)\n",
    "print(evectors.shape)\n",
    "print(evals,\"\\n\", evectors)"
   ]
  },
  {
   "attachments": {},
   "cell_type": "markdown",
   "id": "db67cf29",
   "metadata": {},
   "source": [
    "*Let's pause and look up this eig function. Do the eigenvectors run along the rows or columns of the returned matrix?*"
   ]
  },
  {
   "attachments": {},
   "cell_type": "markdown",
   "id": "fe1af1d8",
   "metadata": {},
   "source": [
    "Fourth, get an ordering over the eigenvalues."
   ]
  },
  {
   "cell_type": "code",
   "execution_count": 31,
   "id": "603e0692",
   "metadata": {},
   "outputs": [
    {
     "name": "stdout",
     "output_type": "stream",
     "text": [
      "[0 1]\n"
     ]
    }
   ],
   "source": [
    "# Get an ordering over the eigenvalues\n",
    "\n",
    "evals_order = np.argsort(evals)[::-1] # largest  to smallest\n",
    "print(evals_order)"
   ]
  },
  {
   "attachments": {},
   "cell_type": "markdown",
   "id": "dc87131d",
   "metadata": {},
   "source": [
    "Fifth, sort the eigenvalues and eigenvectors according to that order."
   ]
  },
  {
   "cell_type": "code",
   "execution_count": 32,
   "id": "89a2ced8",
   "metadata": {},
   "outputs": [
    {
     "name": "stdout",
     "output_type": "stream",
     "text": [
      "3.333333333333333\n",
      "-3.7007434154171886e-16\n",
      "(2, 2)\n"
     ]
    }
   ],
   "source": [
    "evals_sorted = evals[evals_order]\n",
    "for e in evals_sorted:\n",
    "    print(e)\n",
    "\n",
    "evectors_sorted = evectors[:, evals_order]\n",
    "print(evectors_sorted.shape)"
   ]
  },
  {
   "attachments": {},
   "cell_type": "markdown",
   "id": "6ed61f7e",
   "metadata": {},
   "source": [
    "Sixth, calculate the proportional variances."
   ]
  },
  {
   "cell_type": "code",
   "execution_count": 33,
   "id": "5042d544",
   "metadata": {},
   "outputs": [
    {
     "name": "stdout",
     "output_type": "stream",
     "text": [
      "[1.0000000000000002, -1.1102230246251568e-16]\n"
     ]
    }
   ],
   "source": [
    "evals_sum = np.sum(evals_sorted)\n",
    "ps = [eval / evals_sum for eval in evals_sorted]\n",
    "print(ps)"
   ]
  },
  {
   "attachments": {},
   "cell_type": "markdown",
   "id": "06d526e3",
   "metadata": {},
   "source": [
    "Seventh, calculate the cumulative sum of the proportional variances."
   ]
  },
  {
   "cell_type": "markdown",
   "id": "a3bb40da",
   "metadata": {},
   "source": []
  },
  {
   "cell_type": "code",
   "execution_count": 34,
   "id": "d30b3d5d",
   "metadata": {},
   "outputs": [
    {
     "name": "stdout",
     "output_type": "stream",
     "text": [
      "0 1.0000000000000002 1.0000000000000002\n",
      "1 -1.1102230246251568e-16 1.0\n"
     ]
    }
   ],
   "source": [
    "c = 0\n",
    "for i in range(len(ps)):\n",
    "    c = c + ps[i]\n",
    "    print(i, ps[i], c)"
   ]
  },
  {
   "attachments": {},
   "cell_type": "markdown",
   "id": "d970f88a",
   "metadata": {},
   "source": [
    "Eighth, examine the principal components. Select the top $n$ of them."
   ]
  },
  {
   "cell_type": "code",
   "execution_count": 35,
   "id": "566afbb1",
   "metadata": {},
   "outputs": [
    {
     "name": "stdout",
     "output_type": "stream",
     "text": [
      "[[ 0.70710678  0.70710678]\n",
      " [-0.70710678  0.70710678]]\n",
      "[[ 0.70710678]\n",
      " [-0.70710678]]\n"
     ]
    }
   ],
   "source": [
    "print(evectors_sorted)\n",
    "\n",
    "v = np.array([evectors_sorted[:, 0]]).T\n",
    "print(v)"
   ]
  },
  {
   "attachments": {},
   "cell_type": "markdown",
   "id": "48766931",
   "metadata": {},
   "source": [
    "Ninth, project the data into PCA space."
   ]
  },
  {
   "cell_type": "code",
   "execution_count": 36,
   "id": "c1476827",
   "metadata": {},
   "outputs": [
    {
     "name": "stdout",
     "output_type": "stream",
     "text": [
      "[[-2.12132034]\n",
      " [-0.70710678]\n",
      " [ 0.70710678]\n",
      " [ 2.12132034]]\n"
     ]
    }
   ],
   "source": [
    "projected_data = centered_data@v\n",
    "print(projected_data)"
   ]
  },
  {
   "attachments": {},
   "cell_type": "markdown",
   "id": "66b9b743",
   "metadata": {},
   "source": [
    "Tenth, reconstruct the data with only the chosen principal components."
   ]
  },
  {
   "cell_type": "code",
   "execution_count": 37,
   "id": "84ef2a04",
   "metadata": {},
   "outputs": [
    {
     "name": "stdout",
     "output_type": "stream",
     "text": [
      "[[1. 4.]\n",
      " [2. 3.]\n",
      " [3. 2.]\n",
      " [4. 1.]]\n"
     ]
    },
    {
     "data": {
      "image/png": "[encoded data removed]",
      "text/plain": [
       "<Figure size 640x480 with 1 Axes>"
      ]
     },
     "metadata": {},
     "output_type": "display_data"
    }
   ],
   "source": [
    "reconstructed_data = projected_data@v.T + np.mean(data, axis=0)\n",
    "print(reconstructed_data)\n",
    "plt.scatter(x = reconstructed_data[:, 0], y=reconstructed_data[:, 1], color=\"black\")\n",
    "plt.scatter(x = data[:, 0], y=data[:, 1], color=\"blue\")\n",
    "plt.show()"
   ]
  },
  {
   "attachments": {},
   "cell_type": "markdown",
   "id": "4bbc7513",
   "metadata": {},
   "source": [
    "If we do all this, then:\n",
    "* what does the data look like in \"PCA space\"?\n",
    "* what does it look like projected back?\n",
    "* how does a regression fit on the PC transformed data compare with one fit on the original data?\n",
    "* What if all the points were on a line?"
   ]
  },
  {
   "attachments": {},
   "cell_type": "markdown",
   "id": "480168ea",
   "metadata": {},
   "source": [
    "not just dropping columns but also combining columns "
   ]
  },
  {
   "attachments": {},
   "cell_type": "markdown",
   "id": "c7687f07",
   "metadata": {},
   "source": [
    "# Extra! Bonus! (May not get to in class) PCA on our data\n",
    "\n",
    "First, load our data."
   ]
  },
  {
   "cell_type": "code",
   "execution_count": 38,
   "id": "9a70c356",
   "metadata": {},
   "outputs": [
    {
     "name": "stdout",
     "output_type": "stream",
     "text": [
      "(3158, 9)\n"
     ]
    }
   ],
   "source": [
    "# these will be our columns\n",
    "columns = [\"price\", \"year\", \"manufacturer\", \"model\", \"condition\", \"fuel\", \"odometer\", \"title_status\", \"transmission\"]\n",
    "# this will contain our converters\n",
    "colValues = {}\n",
    "\n",
    "# first we load our data as strings so we can define the converters\n",
    "data = np.array(np.genfromtxt('data/vehicles.csv', delimiter=',', usecols=(1,2,3,4,5,7,8,9,11), skip_header=1, dtype=str, encoding='utf-8'))  \n",
    "\n",
    "# make a list of the unique values in each column of our data\n",
    "for colIndex in range(data.shape[1]):\n",
    "    colValues[colIndex] = np.unique(data[:, colIndex]).tolist()\n",
    "\n",
    "# fix up some of these ones we know are ordered\n",
    "colValues[columns.index('condition')] = ['new', 'like new', 'excellent', 'good', 'fair', 'salvage']\n",
    "colValues[columns.index('title_status')] = ['clean', 'lien', 'rebuilt', 'salvage', 'parts only', 'missing']\n",
    "\n",
    "# map values to their indices in the list of unique values\n",
    "def converter(x, colIndex):\n",
    "    return colValues[colIndex].index(x)\n",
    "\n",
    "data = np.array(np.genfromtxt('data/vehicles.csv', delimiter=',', usecols=(1,2,3,4,5,7,8,9,11), converters={3: lambda x: converter(x, 2), 4: lambda x: converter(x, 3), 5: lambda x: converter(x, 4), 7: lambda x: converter(x,5), 9: lambda x: converter(x, 7), 11: lambda x: converter(x, 8)}, skip_header=1, dtype=int, encoding='utf-8'))  \n",
    "print(data.shape)"
   ]
  },
  {
   "attachments": {},
   "cell_type": "markdown",
   "id": "70c86f07",
   "metadata": {},
   "source": [
    "Let's z-score it."
   ]
  },
  {
   "cell_type": "code",
   "execution_count": 39,
   "id": "ce2b01a7",
   "metadata": {},
   "outputs": [
    {
     "name": "stdout",
     "output_type": "stream",
     "text": [
      "(3158, 9)\n"
     ]
    }
   ],
   "source": [
    "homogenizedData = np.append(data, np.array([np.ones(data.shape[0], dtype=int)]).T, axis=1)\n",
    "\n",
    "translateTransform = np.eye(homogenizedData.shape[1], dtype=float)\n",
    "for i in range(data.shape[1]):\n",
    "    translateTransform[i, -1] = -data[:, i].mean()\n",
    "\n",
    "scaleTransform = np.eye(homogenizedData.shape[1], dtype=float)\n",
    "for i in range(data.shape[1]):\n",
    "    scaleTransform[i, i] = 1/data[:, i].std()\n",
    "\n",
    "totalTransform = scaleTransform@translateTransform\n",
    "\n",
    "transformedData = (totalTransform @ homogenizedData.T).T\n",
    "\n",
    "transformedData = transformedData[:, 0:-1]\n",
    "print(transformedData.shape)"
   ]
  },
  {
   "cell_type": "code",
   "execution_count": 40,
   "id": "986a0a12",
   "metadata": {},
   "outputs": [
    {
     "data": {
      "image/png": "[encoded data removed]",
      "text/plain": [
       "<Figure size 2000x250 with 8 Axes>"
      ]
     },
     "metadata": {},
     "output_type": "display_data"
    }
   ],
   "source": [
    "import pandas as pd\n",
    "import seaborn\n",
    "\n",
    "df = pd.DataFrame(transformedData, columns=columns)\n",
    "seaborn.pairplot(df, y_vars = columns[0], x_vars = columns[1:])\n",
    "\n",
    "plt.show()"
   ]
  },
  {
   "attachments": {},
   "cell_type": "markdown",
   "id": "4d1e2c21",
   "metadata": {},
   "source": [
    "Split it into train and test. Split off the dependent variable from each."
   ]
  },
  {
   "cell_type": "code",
   "execution_count": 41,
   "id": "f90ae602",
   "metadata": {},
   "outputs": [
    {
     "name": "stdout",
     "output_type": "stream",
     "text": [
      "(2526, 8) (632, 8)\n"
     ]
    }
   ],
   "source": [
    "transformedData = transformedData[data[:, 1].argsort()]\n",
    "\n",
    "(train, test) = np.split(transformedData, [int(len(transformedData) / 10 * 8)])\n",
    "trainx = train[:, 1:]\n",
    "trainy = train[:, 0]\n",
    "testx = test[:, 1:]\n",
    "testy = test[:, 0]\n",
    "print(trainx.shape, testx.shape)\n"
   ]
  },
  {
   "attachments": {},
   "cell_type": "markdown",
   "id": "18b722ab",
   "metadata": {},
   "source": [
    "Second, fit PCA using training data."
   ]
  },
  {
   "cell_type": "code",
   "execution_count": 42,
   "id": "68deb227",
   "metadata": {},
   "outputs": [
    {
     "name": "stdout",
     "output_type": "stream",
     "text": [
      "centered train:  (2526, 8)\n",
      "covariance matrix:  (8, 8)\n",
      "eigenvalues, eigenvectors:  (8,) (8, 8)\n",
      "sorted eigenvalues\n",
      "1.3963405481350712\n",
      "1.2717168886896255\n",
      "1.0700739677491684\n",
      "0.9284772287390003\n",
      "0.8420262234782097\n",
      "0.7362541404224231\n",
      "0.6910233560615332\n",
      "0.5434102082240084\n",
      "cum sum prop var\n",
      "0 0.18669345206783144 0.18669345206783144\n",
      "1 0.17003102596964909 0.35672447803748053\n",
      "2 0.1430709745368569 0.49979545257433744\n",
      "3 0.1241392146286723 0.6239346672030097\n",
      "4 0.11258054677473986 0.7365152139777495\n",
      "5 0.09843861317232182 0.8349538271500714\n",
      "6 0.09239116917067891 0.9273449963207503\n",
      "7 0.07265500367924976 1.0\n"
     ]
    }
   ],
   "source": [
    "# Now let's do it on our big dataset!\n",
    "import scipy as sp\n",
    "\n",
    "# center\n",
    "centered_train = trainx - np.mean(trainx, axis=0)\n",
    "print(\"centered train: \", centered_train.shape)\n",
    "\n",
    "# covariance\n",
    "covariance_matrix = (centered_train.T @ centered_train) / (centered_train.shape[0] - 1)\n",
    "print(\"covariance matrix: \", covariance_matrix.shape)\n",
    "\n",
    "# svd\n",
    "(evals, evectors) = np.linalg.eig(covariance_matrix)\n",
    "print(\"eigenvalues, eigenvectors: \", evals.shape, evectors.shape)\n",
    "\n",
    "# sort\n",
    "evals_order = np.argsort(evals)[::-1]\n",
    "evals_sorted = evals[evals_order]\n",
    "evectors_sorted = evectors[:, evals_order]\n",
    "print(\"sorted eigenvalues\")\n",
    "for e in evals_sorted:\n",
    "    print(e)\n",
    "\n",
    "# proportional variance\n",
    "evals_sum = np.sum(evals_sorted)\n",
    "ps = [e / evals_sum for e in evals_sorted]\n",
    "\n",
    "# cumulative sum of proportional variance\n",
    "print(\"cum sum prop var\")\n",
    "c = 0\n",
    "for i in range(len(ps)):\n",
    "    c = c + ps[i]\n",
    "    print(i, ps[i], c)"
   ]
  },
  {
   "attachments": {},
   "cell_type": "markdown",
   "id": "09473580",
   "metadata": {},
   "source": [
    "Figure out how many eigenvectors to keep!"
   ]
  },
  {
   "cell_type": "code",
   "execution_count": 43,
   "id": "11abb9e0",
   "metadata": {},
   "outputs": [
    {
     "name": "stdout",
     "output_type": "stream",
     "text": [
      "v\n",
      "(8, 6)\n"
     ]
    }
   ],
   "source": [
    "# v with five\n",
    "v = evectors_sorted[np.ix_(np.arange(evectors_sorted.shape[0]), [0, 1,2,3,4,5])]\n",
    "print(\"v\")\n",
    "print(v.shape)"
   ]
  },
  {
   "attachments": {},
   "cell_type": "markdown",
   "id": "ad8f7524",
   "metadata": {},
   "source": [
    "Project the training data and the test data."
   ]
  },
  {
   "cell_type": "code",
   "execution_count": 44,
   "id": "3246a30f",
   "metadata": {},
   "outputs": [
    {
     "name": "stdout",
     "output_type": "stream",
     "text": [
      "projected train:  (2526, 6)\n",
      "centered test:  (632, 8)\n",
      "projected test:  (632, 6)\n"
     ]
    }
   ],
   "source": [
    "# project into PCA space\n",
    "projected_train = centered_train@v\n",
    "print(\"projected train: \", projected_train.shape)\n",
    "\n",
    "# center\n",
    "centered_test = testx - np.mean(testx, axis=0)\n",
    "print(\"centered test: \", centered_test.shape)\n",
    "\n",
    "# project into PCA space\n",
    "projected_test = centered_test@v\n",
    "print(\"projected test: \", projected_test.shape)\n"
   ]
  },
  {
   "attachments": {},
   "cell_type": "markdown",
   "id": "0dfdc168",
   "metadata": {},
   "source": [
    "## Linear regression on the original data"
   ]
  },
  {
   "attachments": {},
   "cell_type": "markdown",
   "id": "d22f1e64",
   "metadata": {},
   "source": [
    "This code comes directly from day 16."
   ]
  },
  {
   "cell_type": "code",
   "execution_count": 45,
   "id": "4defcd15",
   "metadata": {},
   "outputs": [],
   "source": [
    "import scipy.linalg as sp_la\n",
    "\n",
    "# x a matrix of multiple independent variables\n",
    "# poly -> polys, a matrix of multiple polynomial degrees for each column in x in order\n",
    "def makePoly(x, polys):\n",
    "    # make an empty array of size A\n",
    "    A = np.zeros([x.shape[0], np.sum(polys)+1])\n",
    "    # left most column of 1s for the intercept\n",
    "    # notice this is also a third way to get that leading column of ones!\n",
    "    A[:, 0] = np.squeeze(x[:, 0]**0)\n",
    "    k = 1\n",
    "    # for each variable\n",
    "    for (j, poly) in enumerate(polys):\n",
    "        # for up to and including! poly\n",
    "        for i in range(1, poly+1):\n",
    "            A[:, k] = np.squeeze(x[:, j]**i)\n",
    "            k += 1\n",
    "    return A\n",
    "\n",
    "def fit(data, independent, dependent, polys):\n",
    "    # This is our independent variable, just one for now\n",
    "    x = data[np.ix_(np.arange(data.shape[0]), independent)]\n",
    "\n",
    "    # We add the polynomials, and a column of 1s for the intercept\n",
    "    A = makePoly(x, polys)\n",
    "\n",
    "    # This is the dependent variable \n",
    "    y = data[:, dependent]\n",
    "\n",
    "    # This is the regression coefficients that were fit, plus some other results\n",
    "    # We use _ when we don't want to remember something a function returns\n",
    "    c, _, _, _ = sp_la.lstsq(A, y)\n",
    "    return c\n",
    "\n",
    "def predict(data, independent, polys, c):\n",
    "    # These are our independent variable(s)\n",
    "    x = data[np.ix_(np.arange(data.shape[0]), independent)]\n",
    "\n",
    "    # We add the polynomials, and a column of 1s for the intercept\n",
    "    A = makePoly(x, polys)\n",
    "\n",
    "    return np.dot(A, c)\n",
    "\n",
    "def msse(y, yhat):\n",
    "    r = (np.square(y - yhat)).mean()\n",
    "    return r\n",
    "\n",
    "def rsquared(y, yhat):\n",
    "    if len(y) != len(yhat):\n",
    "        print(\"Need y and yhat to be the same length!\")\n",
    "        return 0\n",
    "    return 1 - (((y - yhat)**2).sum() / ((y - y.mean())**2).sum())"
   ]
  },
  {
   "attachments": {},
   "cell_type": "markdown",
   "id": "addbaba1",
   "metadata": {},
   "source": [
    "Fit a multiple linear regression."
   ]
  },
  {
   "cell_type": "code",
   "execution_count": 46,
   "id": "d4be542b",
   "metadata": {},
   "outputs": [
    {
     "name": "stdout",
     "output_type": "stream",
     "text": [
      "0.5337297874374174 -0.03311379773631895\n"
     ]
    }
   ],
   "source": [
    "# we will use all our independent variables\n",
    "variableset = list(range(trainx.shape[1]))\n",
    "\n",
    "# all with polynomial 1\n",
    "polys = [1 for x in range(len(variableset))]\n",
    "c = fit(trainx, list(variableset), 0, polys)\n",
    "# calculate MSSE and R^2\n",
    "print(msse(trainy, predict(trainx, variableset, polys, c)), \n",
    "      rsquared(testy, predict(testx, variableset, polys, c)))"
   ]
  },
  {
   "attachments": {},
   "cell_type": "markdown",
   "id": "197e47d0",
   "metadata": {},
   "source": [
    "## Linear regression on the projected data"
   ]
  },
  {
   "cell_type": "code",
   "execution_count": 47,
   "id": "3d816bf2",
   "metadata": {},
   "outputs": [
    {
     "name": "stdout",
     "output_type": "stream",
     "text": [
      "1.415505206561565 -0.30764584114757243\n"
     ]
    }
   ],
   "source": [
    "# we will use all our independent variables\n",
    "variableset = list(range(projected_train.shape[1]))\n",
    "\n",
    "# all with polynomial 1\n",
    "polys = [1 for x in range(len(variableset))]\n",
    "c = fit(projected_train, list(variableset), 0, polys)\n",
    "# calculate MSSE and R^2\n",
    "print(msse(trainy, predict(projected_train, variableset, polys, c)), \n",
    "      rsquared(testy, predict(projected_test, variableset, polys, c)))"
   ]
  },
  {
   "cell_type": "markdown",
   "id": "d9b2af3e",
   "metadata": {},
   "source": [
    "Resources:\n",
    "* https://plotly.com/python/pca-visualization/\n",
    "* https://wendynavarrete.com/principal-component-analysis-with-numpy/\n",
    "* https://dev.to/akaame/implementing-simple-pca-using-numpy-3k0a"
   ]
  }
 ],
 "metadata": {
  "kernelspec": {
   "display_name": "Python 3",
   "language": "python",
   "name": "python3"
  },
  "language_info": {
   "codemirror_mode": {
    "name": "ipython",
    "version": 3
   },
   "file_extension": ".py",
   "mimetype": "text/x-python",
   "name": "python",
   "nbconvert_exporter": "python",
   "pygments_lexer": "ipython3",
   "version": "3.9.6 (default, Oct 18 2022, 12:41:40) \n[Clang 14.0.0 (clang-1400.0.29.202)]"
  },
  "vscode": {
   "interpreter": {
    "hash": "31f2aee4e71d21fbe5cf8b01ff0e069b9275f58929596ceb00d14d90e3e16cd6"
   }
  }
 },
 "nbformat": 4,
 "nbformat_minor": 5
}
