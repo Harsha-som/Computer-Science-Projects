{
 "cells": [
  {
   "cell_type": "code",
   "execution_count": null,
   "id": "71fe5ae3",
   "metadata": {},
   "outputs": [],
   "source": []
  },
  {
   "cell_type": "markdown",
   "id": "ec9998ae-2836-49af-843c-7e44c095b9b6",
   "metadata": {},
   "source": [
    "# About Quiz 3 ..."
   ]
  },
  {
   "cell_type": "code",
   "execution_count": 45,
   "id": "9c1a3c9b-6c6f-4a8f-ae3c-d533282da685",
   "metadata": {
    "tags": []
   },
   "outputs": [],
   "source": [
    "import numpy as np"
   ]
  },
  {
   "attachments": {},
   "cell_type": "markdown",
   "id": "32f83622-1566-4284-b152-9accd51529ad",
   "metadata": {},
   "source": [
    "Let's make our translation matrix (here u add column of 1s, also in rotation do this, in scaling u do not need to add leading column of 1s)"
   ]
  },
  {
   "cell_type": "code",
   "execution_count": 46,
   "id": "08806261-4c92-4e8c-9188-737cfec63dc6",
   "metadata": {
    "tags": []
   },
   "outputs": [
    {
     "name": "stdout",
     "output_type": "stream",
     "text": [
      "[[  1   0 -10]\n",
      " [  0   1  25]\n",
      " [  0   0   1]]\n"
     ]
    }
   ],
   "source": [
    "translate = np.array([[1, 0, -10], [0, 1, 25], [0, 0, 1]]) #last row and colun with 0,0,1 added to match dimesnisons\n",
    "print(translate)"
   ]
  },
  {
   "cell_type": "markdown",
   "id": "cc9bee29-a1c9-4484-bf81-5b04f4ed50c1",
   "metadata": {},
   "source": [
    "Let's make our scale matrix"
   ]
  },
  {
   "cell_type": "code",
   "execution_count": 47,
   "id": "51541fc8-acc1-4337-a994-a37d4116f8cf",
   "metadata": {
    "tags": []
   },
   "outputs": [
    {
     "name": "stdout",
     "output_type": "stream",
     "text": [
      "[[2.  0.  0. ]\n",
      " [0.  0.5 0. ]\n",
      " [0.  0.  1. ]]\n"
     ]
    }
   ],
   "source": [
    "scale = np.array([[2, 0, 0], [0, .5, 0], [0, 0, 1]])\n",
    "print(scale)"
   ]
  },
  {
   "cell_type": "markdown",
   "id": "9bd8e13e-3af0-449e-a497-8e13601c5b09",
   "metadata": {},
   "source": [
    "What happens when we multiply them in this order?"
   ]
  },
  {
   "cell_type": "code",
   "execution_count": 48,
   "id": "4c1ce863-1162-46a0-8073-ee8847a520be",
   "metadata": {
    "tags": []
   },
   "outputs": [
    {
     "data": {
      "text/plain": [
       "array([[  2. ,   0. , -10. ],\n",
       "       [  0. ,   0.5,  25. ],\n",
       "       [  0. ,   0. ,   1. ]])"
      ]
     },
     "execution_count": 48,
     "metadata": {},
     "output_type": "execute_result"
    }
   ],
   "source": [
    "translate@scale #row are transllate @scale is column "
   ]
  },
  {
   "cell_type": "markdown",
   "id": "87169821-41b4-4332-865a-3b209cab40e9",
   "metadata": {},
   "source": [
    "What happens when we multiply them in this order?"
   ]
  },
  {
   "cell_type": "code",
   "execution_count": 49,
   "id": "a9a3ed82-be1a-45d0-9fa0-fa062a63635f",
   "metadata": {
    "tags": []
   },
   "outputs": [
    {
     "data": {
      "text/plain": [
       "array([[  2. ,   0. , -20. ],\n",
       "       [  0. ,   0.5,  12.5],\n",
       "       [  0. ,   0. ,   1. ]])"
      ]
     },
     "execution_count": 49,
     "metadata": {},
     "output_type": "execute_result"
    }
   ],
   "source": [
    "scale@translate"
   ]
  },
  {
   "cell_type": "markdown",
   "id": "0a7e82e5-438d-42fc-b0ed-79ca02412dbc",
   "metadata": {},
   "source": [
    "Alright, let's make some data"
   ]
  },
  {
   "cell_type": "code",
   "execution_count": 50,
   "id": "3646f9dc-7860-4d47-8a9e-ff1f50ec7ea0",
   "metadata": {
    "tags": []
   },
   "outputs": [
    {
     "name": "stdout",
     "output_type": "stream",
     "text": [
      "[[10  4  1]\n",
      " [20  2  1]]\n"
     ]
    }
   ],
   "source": [
    "data = np.array([[10, 4, 1], [20, 2, 1]])\n",
    "print(data)"
   ]
  },
  {
   "cell_type": "markdown",
   "id": "0bfc1ed8-6a35-45bf-ab00-ad42ea7aaf24",
   "metadata": {},
   "source": [
    "If I translate my data..."
   ]
  },
  {
   "cell_type": "code",
   "execution_count": 51,
   "id": "b3097309-4b2c-48c5-8318-77427d93b407",
   "metadata": {
    "tags": []
   },
   "outputs": [
    {
     "data": {
      "text/plain": [
       "array([[ 0, 29,  1],\n",
       "       [10, 27,  1]])"
      ]
     },
     "execution_count": 51,
     "metadata": {},
     "output_type": "execute_result"
    }
   ],
   "source": [
    "(translate@data.T).T #x minus 10, y plus 25"
   ]
  },
  {
   "cell_type": "markdown",
   "id": "9955cb6e-7bc9-4ed4-91b5-bd3e2c9c5b75",
   "metadata": {},
   "source": [
    "If I scale my data..."
   ]
  },
  {
   "cell_type": "code",
   "execution_count": 52,
   "id": "8d22a17e-5aa8-4e2c-93c4-83bab10e1baa",
   "metadata": {
    "tags": []
   },
   "outputs": [
    {
     "data": {
      "text/plain": [
       "array([[20.,  2.,  1.],\n",
       "       [40.,  1.,  1.]])"
      ]
     },
     "execution_count": 52,
     "metadata": {},
     "output_type": "execute_result"
    }
   ],
   "source": [
    "(scale@data.T).T #x times 2 y times .5"
   ]
  },
  {
   "cell_type": "markdown",
   "id": "e93ffcf6-e9cb-4772-8880-28d336b3dcea",
   "metadata": {},
   "source": [
    "If I translate then scale then transform my data..."
   ]
  },
  {
   "cell_type": "code",
   "execution_count": 53,
   "id": "b94b5293-1a99-480f-aa62-3a0a4f825165",
   "metadata": {
    "tags": []
   },
   "outputs": [
    {
     "data": {
      "text/plain": [
       "array([[10., 27.,  1.],\n",
       "       [30., 26.,  1.]])"
      ]
     },
     "execution_count": 53,
     "metadata": {},
     "output_type": "execute_result"
    }
   ],
   "source": [
    "((translate@scale)@data.T).T"
   ]
  },
  {
   "attachments": {},
   "cell_type": "markdown",
   "id": "d95198d7-4415-4b80-90fa-e9578e85caae",
   "metadata": {},
   "source": [
    "If I scale then translate then transform my data...\n",
    "\n",
    "want to do this becaise want x  to be at 0"
   ]
  },
  {
   "cell_type": "code",
   "execution_count": 54,
   "id": "0ab82474-9338-42c2-9878-ba3ad4eb6370",
   "metadata": {
    "tags": []
   },
   "outputs": [
    {
     "name": "stdout",
     "output_type": "stream",
     "text": [
      "[[10  4  1]\n",
      " [20  2  1]]\n"
     ]
    },
    {
     "data": {
      "text/plain": [
       "array([[ 0. , 14.5,  1. ],\n",
       "       [20. , 13.5,  1. ]])"
      ]
     },
     "execution_count": 54,
     "metadata": {},
     "output_type": "execute_result"
    }
   ],
   "source": [
    "print(data)\n",
    "((scale@translate)@data.T).T"
   ]
  },
  {
   "cell_type": "code",
   "execution_count": 55,
   "id": "30effad3",
   "metadata": {},
   "outputs": [
    {
     "data": {
      "text/plain": [
       "array([[ 0. , 14.5,  1. ],\n",
       "       [20. , 13.5,  1. ]])"
      ]
     },
     "execution_count": 55,
     "metadata": {},
     "output_type": "execute_result"
    }
   ],
   "source": [
    "(scale@translate@data.T).T"
   ]
  },
  {
   "cell_type": "markdown",
   "id": "27d336d5-c9e2-4d2f-9ad0-2ac7e0aba506",
   "metadata": {},
   "source": [
    "So matrix multiplication is **associative** but not **commutative**:\n",
    "* (A@B)@C = A@(B@C) but\n",
    "* A@B != B@A"
   ]
  },
  {
   "attachments": {},
   "cell_type": "markdown",
   "id": "bd8247b6",
   "metadata": {},
   "source": [
    "translation through sclaing or pass sclaing dataing through translation"
   ]
  },
  {
   "cell_type": "markdown",
   "id": "7b67ebd6-5b23-4fb2-88cc-87321a5b3031",
   "metadata": {},
   "source": [
    "Which order do you think is a better interpretation of the question in the quiz?\n",
    "\n",
    "Take home message: **know the order in which you want your transformations done**."
   ]
  },
  {
   "attachments": {},
   "cell_type": "markdown",
   "id": "37834884",
   "metadata": {},
   "source": [
    "# About Homework 3\n",
    "\n",
    "Generally, people seem to know how to set up a transformation matrix:\n",
    "* translation\n",
    "* scaling\n",
    "* rotation in 2D\n",
    "* rotation in 3D\n",
    "* max-min normalization\n",
    "\n",
    "The problem seems to come in actually doing the matrix multiply.\n",
    "\n",
    "Here's a mnemonic that may help you: Pirates say Argh over the Seas (R over C, rows over columns).\n",
    "\n",
    "Here's a nice little refresher: https://www.mathsisfun.com/algebra/matrix-multiplying.html.\n",
    "\n",
    "And here we implement matrix multiply using for loops."
   ]
  },
  {
   "cell_type": "code",
   "execution_count": 56,
   "id": "9962f9d1-6b70-4c19-aa04-bca48282eb80",
   "metadata": {},
   "outputs": [],
   "source": [
    "def matrix_multiply_slowly(m1, m2):\n",
    "    if m1.shape[1] != m2.shape[0]:\n",
    "        print(\"Can't multiply a \", m1.shape, \" matrix by a \", m2.shape, \" matrix.\")\n",
    "        return None\n",
    "    res = []\n",
    "    # rows\n",
    "    for rowIndex in range(m1.shape[0]):\n",
    "        # over\n",
    "        res.append([]) #add every row , each row gets a new list( maes sense)\n",
    "        # columns\n",
    "        for colIndex in range(m2.shape[1]): #for every columns  #add to evry list in res the dot product\n",
    "            res[-1].append(dot_product_slowly(rowIndex, colIndex, m1[rowIndex], m2[:,colIndex]))\n",
    "    return np.array(res)\n",
    "\n",
    "def dot_product_slowly(i, j, v1, v2):\n",
    "    if len(v1) != len(v2): #if # columns does ot equal noumber of rows \n",
    "        print(\"Can't multiply a vector of length \", len(v1), \" with a vector of length \", len(v2), \".\")\n",
    "        return 0\n",
    "    pairs = list(zip(v1, v2))\n",
    "    print(pairs)\n",
    "    print(i, ' ', j, '\\t', ' + '.join(['%s*%s'%(i, j) for i, j in pairs]), '\\t', np.sum([i*j for i, j in pairs]))\n",
    "    # print row index, column index and v1 * plus v2 and then sume \n",
    "    # tab v1 *v2 \n",
    "    # sum up the pairwise products\n",
    "    return np.sum([i*j for i, j in pairs])\n"
   ]
  },
  {
   "attachments": {},
   "cell_type": "markdown",
   "id": "ffdf0960",
   "metadata": {},
   "source": [
    "done in c this code, so fastserr"
   ]
  },
  {
   "cell_type": "code",
   "execution_count": 57,
   "id": "e41bcb06",
   "metadata": {},
   "outputs": [
    {
     "name": "stdout",
     "output_type": "stream",
     "text": [
      "[[1 2]\n",
      " [3 4]] \n",
      " [[2 0]\n",
      " [0 3]]\n",
      "[[ 2  6]\n",
      " [ 6 12]]\n"
     ]
    }
   ],
   "source": [
    "m1 = np.array([[1,2], [3,4]])\n",
    "m2 = np.array([[2,0],[0,3]])\n",
    "print(m1,\"\\n\",m2)\n",
    "print(m1@m2)"
   ]
  },
  {
   "cell_type": "code",
   "execution_count": 58,
   "id": "538debdf",
   "metadata": {},
   "outputs": [
    {
     "name": "stdout",
     "output_type": "stream",
     "text": [
      "[(1, 2), (2, 0)]\n",
      "0   0 \t 1*2 + 2*0 \t 2\n",
      "[(1, 0), (2, 3)]\n",
      "0   1 \t 1*0 + 2*3 \t 6\n",
      "[(3, 2), (4, 0)]\n",
      "1   0 \t 3*2 + 4*0 \t 6\n",
      "[(3, 0), (4, 3)]\n",
      "1   1 \t 3*0 + 4*3 \t 12\n",
      "[[ 2  6]\n",
      " [ 6 12]]\n"
     ]
    }
   ],
   "source": [
    "print(matrix_multiply_slowly(m1, m2))"
   ]
  },
  {
   "attachments": {},
   "cell_type": "markdown",
   "id": "97a2b12b",
   "metadata": {},
   "source": [
    "### Translate [[1 2 1] [3 7 3] [4 5 4]] to the origin along the y and z dimensions."
   ]
  },
  {
   "cell_type": "code",
   "execution_count": 59,
   "id": "4c80e1bf",
   "metadata": {},
   "outputs": [
    {
     "name": "stdout",
     "output_type": "stream",
     "text": [
      "[[1 2 1 1]\n",
      " [3 7 3 1]\n",
      " [4 5 4 1]]\n",
      "[[ 1  0  0  0]\n",
      " [ 0  1  0 -2]\n",
      " [ 0  0  1 -1]\n",
      " [ 0  0  0  1]]\n"
     ]
    }
   ],
   "source": [
    "data = np.array([[1,2,1],[3,7,3],[4,5,4]])\n",
    "\n",
    "# add trailing 1s for translation\n",
    "# there is NO NEED to add a bottom row to make the matrix square\n",
    "homogenizedData = np.append(data, np.array([np.ones(data.shape[0], dtype=int)]).T, axis=1)\n",
    "\n",
    "# transformation matrix\n",
    "transform = np.array([[1,0,0,0],[0,1,0,-np.min(data[:,1])],[0,0,1,-np.min(data[:,2])],[0,0,0,1]]) #last matrix for homogeous cooridnate \n",
    "print(homogenizedData)\n",
    "print(transform)"
   ]
  },
  {
   "cell_type": "code",
   "execution_count": 60,
   "id": "ea521ffd",
   "metadata": {},
   "outputs": [
    {
     "name": "stdout",
     "output_type": "stream",
     "text": [
      "[(1, 1), (0, 2), (0, 1), (0, 1)]\n",
      "0   0 \t 1*1 + 0*2 + 0*1 + 0*1 \t 1\n",
      "[(1, 3), (0, 7), (0, 3), (0, 1)]\n",
      "0   1 \t 1*3 + 0*7 + 0*3 + 0*1 \t 3\n",
      "[(1, 4), (0, 5), (0, 4), (0, 1)]\n",
      "0   2 \t 1*4 + 0*5 + 0*4 + 0*1 \t 4\n",
      "[(0, 1), (1, 2), (0, 1), (-2, 1)]\n",
      "1   0 \t 0*1 + 1*2 + 0*1 + -2*1 \t 0\n",
      "[(0, 3), (1, 7), (0, 3), (-2, 1)]\n",
      "1   1 \t 0*3 + 1*7 + 0*3 + -2*1 \t 5\n",
      "[(0, 4), (1, 5), (0, 4), (-2, 1)]\n",
      "1   2 \t 0*4 + 1*5 + 0*4 + -2*1 \t 3\n",
      "[(0, 1), (0, 2), (1, 1), (-1, 1)]\n",
      "2   0 \t 0*1 + 0*2 + 1*1 + -1*1 \t 0\n",
      "[(0, 3), (0, 7), (1, 3), (-1, 1)]\n",
      "2   1 \t 0*3 + 0*7 + 1*3 + -1*1 \t 2\n",
      "[(0, 4), (0, 5), (1, 4), (-1, 1)]\n",
      "2   2 \t 0*4 + 0*5 + 1*4 + -1*1 \t 3\n",
      "[(0, 1), (0, 2), (0, 1), (1, 1)]\n",
      "3   0 \t 0*1 + 0*2 + 0*1 + 1*1 \t 1\n",
      "[(0, 3), (0, 7), (0, 3), (1, 1)]\n",
      "3   1 \t 0*3 + 0*7 + 0*3 + 1*1 \t 1\n",
      "[(0, 4), (0, 5), (0, 4), (1, 1)]\n",
      "3   2 \t 0*4 + 0*5 + 0*4 + 1*1 \t 1\n",
      "[[1 0 0 1]\n",
      " [3 5 2 1]\n",
      " [4 3 3 1]]\n"
     ]
    }
   ],
   "source": [
    "print(matrix_multiply_slowly(transform, homogenizedData.T).T) #lowest value in 2nd and 3rd column of x and y is 0 translated back to orgin!"
   ]
  },
  {
   "attachments": {},
   "cell_type": "markdown",
   "id": "463c0e57",
   "metadata": {},
   "source": [
    "### Scale [[1 2 1] [3 7 3] [4 5 4]] by 2 along the x dimension and .5 along the y dimension."
   ]
  },
  {
   "cell_type": "code",
   "execution_count": 61,
   "id": "d1adf488",
   "metadata": {},
   "outputs": [
    {
     "name": "stdout",
     "output_type": "stream",
     "text": [
      "[[2.  0.  0. ]\n",
      " [0.  0.5 0. ]\n",
      " [0.  0.  1. ]]\n"
     ]
    }
   ],
   "source": [
    "# we are only scaling so we don't NEED to add the homogenous coordinate; but if you did I gave you credit\n",
    "transform = np.array([[2,0,0],[0,.5,0],[0,0,1]])\n",
    "print(transform)"
   ]
  },
  {
   "cell_type": "code",
   "execution_count": 62,
   "id": "9020d239",
   "metadata": {},
   "outputs": [
    {
     "name": "stdout",
     "output_type": "stream",
     "text": [
      "[(2.0, 1), (0.0, 2), (0.0, 1)]\n",
      "0   0 \t 2.0*1 + 0.0*2 + 0.0*1 \t 2.0\n",
      "[(2.0, 3), (0.0, 7), (0.0, 3)]\n",
      "0   1 \t 2.0*3 + 0.0*7 + 0.0*3 \t 6.0\n",
      "[(2.0, 4), (0.0, 5), (0.0, 4)]\n",
      "0   2 \t 2.0*4 + 0.0*5 + 0.0*4 \t 8.0\n",
      "[(0.0, 1), (0.5, 2), (0.0, 1)]\n",
      "1   0 \t 0.0*1 + 0.5*2 + 0.0*1 \t 1.0\n",
      "[(0.0, 3), (0.5, 7), (0.0, 3)]\n",
      "1   1 \t 0.0*3 + 0.5*7 + 0.0*3 \t 3.5\n",
      "[(0.0, 4), (0.5, 5), (0.0, 4)]\n",
      "1   2 \t 0.0*4 + 0.5*5 + 0.0*4 \t 2.5\n",
      "[(0.0, 1), (0.0, 2), (1.0, 1)]\n",
      "2   0 \t 0.0*1 + 0.0*2 + 1.0*1 \t 1.0\n",
      "[(0.0, 3), (0.0, 7), (1.0, 3)]\n",
      "2   1 \t 0.0*3 + 0.0*7 + 1.0*3 \t 3.0\n",
      "[(0.0, 4), (0.0, 5), (1.0, 4)]\n",
      "2   2 \t 0.0*4 + 0.0*5 + 1.0*4 \t 4.0\n",
      "[[2.  1.  1. ]\n",
      " [6.  3.5 3. ]\n",
      " [8.  2.5 4. ]]\n"
     ]
    }
   ],
   "source": [
    "print(matrix_multiply_slowly(transform, data.T).T)"
   ]
  },
  {
   "attachments": {},
   "cell_type": "markdown",
   "id": "5e04a4d4",
   "metadata": {},
   "source": [
    "homogebous cooridnate only for treanslation"
   ]
  },
  {
   "attachments": {},
   "cell_type": "markdown",
   "id": "8ed61f8e",
   "metadata": {},
   "source": [
    "### Perform a local max-min normalization of [[1 2 1] [3 7 3] [4 5 4]].\n",
    "**put everything between 0 and 1**"
   ]
  },
  {
   "cell_type": "code",
   "execution_count": 63,
   "id": "86c52168",
   "metadata": {},
   "outputs": [
    {
     "ename": "NameError",
     "evalue": "name 'rotate' is not defined",
     "output_type": "error",
     "traceback": [
      "\u001b[0;31m---------------------------------------------------------------------------\u001b[0m",
      "\u001b[0;31mNameError\u001b[0m                                 Traceback (most recent call last)",
      "Cell \u001b[0;32mIn[63], line 4\u001b[0m\n\u001b[1;32m      2\u001b[0m scale \u001b[39m=\u001b[39m np\u001b[39m.\u001b[39marray([[\u001b[39m1\u001b[39m\u001b[39m/\u001b[39m(\u001b[39mmax\u001b[39m(data[:,\u001b[39m0\u001b[39m])\u001b[39m-\u001b[39m\u001b[39mmin\u001b[39m(data[:,\u001b[39m0\u001b[39m])),\u001b[39m0\u001b[39m,\u001b[39m0\u001b[39m,\u001b[39m0\u001b[39m],[\u001b[39m0\u001b[39m,\u001b[39m1\u001b[39m,\u001b[39m0\u001b[39m,\u001b[39m0\u001b[39m],[\u001b[39m0\u001b[39m,\u001b[39m0\u001b[39m,\u001b[39m1\u001b[39m,\u001b[39m0\u001b[39m],[\u001b[39m0\u001b[39m,\u001b[39m0\u001b[39m,\u001b[39m0\u001b[39m,\u001b[39m1\u001b[39m]])\n\u001b[1;32m      3\u001b[0m translate \u001b[39m=\u001b[39m np\n\u001b[0;32m----> 4\u001b[0m \u001b[39mprint\u001b[39m(rotate)\n\u001b[1;32m      5\u001b[0m \u001b[39mprint\u001b[39m(translate)\n\u001b[1;32m      6\u001b[0m \u001b[39m# remember what we just learned: order matters! we want to scale the effect of the translation, so we pass the scaling through the translation\u001b[39;00m\n\u001b[1;32m      7\u001b[0m \u001b[39m# also notice if you do it the other way around we do not get a matrix where every value is between 0 and 1\u001b[39;00m\n",
      "\u001b[0;31mNameError\u001b[0m: name 'rotate' is not defined"
     ]
    }
   ],
   "source": [
    "# transformation matrix\n",
    "scale = np.array([[1/(max(data[:,0])-min(data[:,0])),0,0,0],[0,1,0,0],[0,0,1,0],[0,0,0,1]])\n",
    "translate = np\n",
    "print(rotate)\n",
    "print(translate)\n",
    "# remember what we just learned: order matters! we want to scale the effect of the translation, so we pass the scaling through the translation\n",
    "# also notice if you do it the other way around we do not get a matrix where every value is between 0 and 1\n",
    "transform = scale@translate\n",
    "print(transform)"
   ]
  },
  {
   "cell_type": "code",
   "execution_count": null,
   "id": "a2b74df7",
   "metadata": {},
   "outputs": [
    {
     "name": "stdout",
     "output_type": "stream",
     "text": [
      "0   0 \t 0.3333333333333333*1 + 0.0*2 + 0.0*1 + -0.3333333333333333*1 \t 0.0\n",
      "0   1 \t 0.3333333333333333*3 + 0.0*7 + 0.0*3 + -0.3333333333333333*1 \t 0.6666666666666667\n",
      "0   2 \t 0.3333333333333333*4 + 0.0*5 + 0.0*4 + -0.3333333333333333*1 \t 1.0\n",
      "1   0 \t 0.0*1 + 0.2*2 + 0.0*1 + -0.4*1 \t 0.0\n",
      "1   1 \t 0.0*3 + 0.2*7 + 0.0*3 + -0.4*1 \t 1.0\n",
      "1   2 \t 0.0*4 + 0.2*5 + 0.0*4 + -0.4*1 \t 0.6\n",
      "2   0 \t 0.0*1 + 0.0*2 + 0.3333333333333333*1 + -0.3333333333333333*1 \t 0.0\n",
      "2   1 \t 0.0*3 + 0.0*7 + 0.3333333333333333*3 + -0.3333333333333333*1 \t 0.6666666666666667\n",
      "2   2 \t 0.0*4 + 0.0*5 + 0.3333333333333333*4 + -0.3333333333333333*1 \t 1.0\n",
      "3   0 \t 0.0*1 + 0.0*2 + 0.0*1 + 1.0*1 \t 1.0\n",
      "3   1 \t 0.0*3 + 0.0*7 + 0.0*3 + 1.0*1 \t 1.0\n",
      "3   2 \t 0.0*4 + 0.0*5 + 0.0*4 + 1.0*1 \t 1.0\n",
      "[[0.         0.         0.         1.        ]\n",
      " [0.66666667 1.         0.66666667 1.        ]\n",
      " [1.         0.6        1.         1.        ]]\n"
     ]
    }
   ],
   "source": [
    "# max-min means translation AND scaling, so we need that trailing column of ones\n",
    "print(matrix_multiply_slowly(transform, homogenizedData.T).T)"
   ]
  },
  {
   "attachments": {},
   "cell_type": "markdown",
   "id": "2953d0f8",
   "metadata": {},
   "source": [
    "### Rotate [[1 2 1] [3 7 3] [4 5 4]] by 90 degrees around the x dimension."
   ]
  },
  {
   "cell_type": "code",
   "execution_count": null,
   "id": "fafb21d4",
   "metadata": {},
   "outputs": [],
   "source": [
    "\n",
    "# transformation matrix\n",
    "transform = ??\n",
    "print(transform.astype(int))"
   ]
  },
  {
   "cell_type": "code",
   "execution_count": null,
   "id": "3c758c70",
   "metadata": {},
   "outputs": [],
   "source": [
    "print(matrix_multiply_slowly(transform, data.T).T)"
   ]
  },
  {
   "attachments": {},
   "cell_type": "markdown",
   "id": "bfa983d6",
   "metadata": {},
   "source": [
    "### Rotate [[1 2 1] [3 7 3] [4 5 4]] by 90 degrees around the y dimension, and center it on zero."
   ]
  },
  {
   "cell_type": "code",
   "execution_count": null,
   "id": "991ba22e",
   "metadata": {},
   "outputs": [],
   "source": [
    "# transformation matrix, with extra dimension b/c also translating\n",
    "rotate = ??\n",
    "translate = ??\n",
    "print(rotate.astype(int))\n",
    "print(translate)\n",
    "# remember what we just learned: order matters! we want to translate the effect of the rotation, so we pass the translation through the rotation\n",
    "transform = (translate@rotate)\n",
    "print(transform)"
   ]
  },
  {
   "cell_type": "code",
   "execution_count": null,
   "id": "4844a222",
   "metadata": {},
   "outputs": [],
   "source": [
    "print(matrix_multiply_slowly(transform, homogenizedData.T).T)"
   ]
  },
  {
   "attachments": {},
   "cell_type": "markdown",
   "id": "4a674cd3",
   "metadata": {},
   "source": [
    "Flwoing data for data visualization"
   ]
  },
  {
   "cell_type": "code",
   "execution_count": null,
   "id": "2a5cc996",
   "metadata": {},
   "outputs": [],
   "source": []
  },
  {
   "attachments": {},
   "cell_type": "markdown",
   "id": "eb191e93",
   "metadata": {},
   "source": [
    "z score puts eveyrhting centered on 0 and standard devaitions from the mean\n",
    "\n",
    "\n",
    "subtract the mean and divide by standard deviation"
   ]
  }
 ],
 "metadata": {
  "kernelspec": {
   "display_name": "Python 3 (ipykernel)",
   "language": "python",
   "name": "python3"
  },
  "language_info": {
   "codemirror_mode": {
    "name": "ipython",
    "version": 3
   },
   "file_extension": ".py",
   "mimetype": "text/x-python",
   "name": "python",
   "nbconvert_exporter": "python",
   "pygments_lexer": "ipython3",
   "version": "3.10.4"
  }
 },
 "nbformat": 4,
 "nbformat_minor": 5
}
